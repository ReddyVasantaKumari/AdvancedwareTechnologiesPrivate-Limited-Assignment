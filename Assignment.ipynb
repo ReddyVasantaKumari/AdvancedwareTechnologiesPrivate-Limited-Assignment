{
 "cells": [
  {
   "cell_type": "code",
   "execution_count": null,
   "id": "ea88d1ee",
   "metadata": {},
   "outputs": [],
   "source": [
    "import pandas as pd\n",
    "import numpy as np\n",
    "df = pd.DataFrame(columns=['Id','First Name','Last Name','User Name','Email','Gender','DoB','Address'])\n",
    "def get():\n",
    "    n=int(input(\"Enter the no.of rows you want::\"))\n",
    "    for i in range(n):\n",
    "        Id=int(input('Enter Id:'))\n",
    "        FirstName=input('Enter FirstName:')\n",
    "        LastName=input('Enter LirstName:')\n",
    "        UserName=input('Enter UserName:')\n",
    "        Email=input('Enter Email:')\n",
    "        Gender=input('Enter Gender(Female/Male):')\n",
    "        DoB=input('Enter DoB(in DD/MM/YYYY):')\n",
    "        Address=input('Enter Address:')\n",
    "        df1 = pd.DataFrame(data=[[Id,FirstName,LastName,UserName,Email,Gender,DoB,Address]],\n",
    "                       columns=['Id','First Name','Last Name','User Name','Email','Gender','DoB','Address'])\n",
    "    return df1\n",
    "    \n",
    "df1=get()\n",
    "df = pd.concat([df,df1], axis=0)\n",
    "print(\"Original DataFrame:\")\n",
    "print(df)\n",
    "print('Data from Users.csv:')\n",
    " \n",
    "df.to_csv('Users.csv',index=False,header=True)\n",
    "new_df = pd.read_csv('Users.csv')\n",
    " \n",
    "print(new_df)"
   ]
  },
  {
   "cell_type": "code",
   "execution_count": 2,
   "id": "8b1edeb1",
   "metadata": {},
   "outputs": [
    {
     "data": {
      "text/plain": [
       "'C:\\\\Users\\\\R.Vasantha Kumari\\\\Desktop\\\\Assignment\\\\User_Sorted.csv'"
      ]
     },
     "execution_count": 2,
     "metadata": {},
     "output_type": "execute_result"
    }
   ],
   "source": [
    "import shutil\n",
    "\n",
    "original = r'C:\\Users\\R.Vasantha Kumari\\Desktop\\Assignment\\Users.csv'\n",
    "target = r'C:\\Users\\R.Vasantha Kumari\\Desktop\\Assignment\\User_Sorted.csv'\n",
    "\n",
    "shutil.copyfile(original, target)"
   ]
  },
  {
   "cell_type": "code",
   "execution_count": 4,
   "id": "eff01ffb",
   "metadata": {},
   "outputs": [
    {
     "name": "stdout",
     "output_type": "stream",
     "text": [
      "\n",
      "**Before sorting**\n",
      "\n",
      "   Id First Name Last Name    User Name                    Email  Gender  \\\n",
      "0  33      priya  vanthala  priya@14233  vanthalapriya@gmail.com  Female   \n",
      "\n",
      "          DoB Address  \n",
      "0  13/08/2002   vizag  \n",
      "\n",
      "**After sorting**\n",
      "\n",
      "   Id First Name Last Name    User Name                    Email  Gender  \\\n",
      "0  33      priya  vanthala  priya@14233  vanthalapriya@gmail.com  Female   \n",
      "\n",
      "          DoB Address  \n",
      "0  13/08/2002   vizag  \n"
     ]
    }
   ],
   "source": [
    "#Soting User.csv Based on FirstName and LastName\n",
    "\n",
    "import pandas as pandasForSortingCSV\n",
    "UserData = pandasForSortingCSV.read_csv(\"User-Sorted.csv\")\n",
    "                                         \n",
    "# displaying unsorted data frame\n",
    "print(\"\\n**Before sorting**\\n\")\n",
    "print(UserData)\n",
    "# sort data frame\n",
    "UserData.sort_values([\"First Name\",\"Last Name\"], \n",
    "                    axis=0,\n",
    "                    ascending=[True, True,], \n",
    "                    inplace=True)\n",
    "  \n",
    "# displaying sorted data frame\n",
    "print(\"\\n**After sorting**\\n\")\n",
    "print(UserData)"
   ]
  },
  {
   "cell_type": "code",
   "execution_count": null,
   "id": "a3962fc4",
   "metadata": {},
   "outputs": [],
   "source": [
    "#Searching the particular id\n",
    "def searchbyId():\n",
    "    Id=int(input(\"Enter Id\"))\n",
    "    csv_file=pd.read_csv(\"Users.csv\")\n",
    "    for row in csv_file:\n",
    "        if Id==row[1]:\n",
    "            print(row)\n",
    "    else:\n",
    "        print(\"oops...Invalid Id\")\n",
    "searchbyId()    "
   ]
  }
 ],
 "metadata": {
  "kernelspec": {
   "display_name": "Python 3 (ipykernel)",
   "language": "python",
   "name": "python3"
  },
  "language_info": {
   "codemirror_mode": {
    "name": "ipython",
    "version": 3
   },
   "file_extension": ".py",
   "mimetype": "text/x-python",
   "name": "python",
   "nbconvert_exporter": "python",
   "pygments_lexer": "ipython3",
   "version": "3.9.12"
  }
 },
 "nbformat": 4,
 "nbformat_minor": 5
}
